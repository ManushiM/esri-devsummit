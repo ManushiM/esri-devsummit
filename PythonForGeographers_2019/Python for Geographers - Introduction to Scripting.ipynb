{
 "cells": [
  {
   "cell_type": "markdown",
   "metadata": {},
   "source": [
    "### Integers"
   ]
  },
  {
   "cell_type": "code",
   "execution_count": 1,
   "metadata": {},
   "outputs": [],
   "source": [
    "#define\n",
    "integer1 = 5\n",
    "integer2 = -2"
   ]
  },
  {
   "cell_type": "code",
   "execution_count": 2,
   "metadata": {},
   "outputs": [
    {
     "data": {
      "text/plain": [
       "-10"
      ]
     },
     "execution_count": 2,
     "metadata": {},
     "output_type": "execute_result"
    }
   ],
   "source": [
    "#multiply\n",
    "integer1 * integer2"
   ]
  },
  {
   "cell_type": "code",
   "execution_count": 3,
   "metadata": {},
   "outputs": [
    {
     "data": {
      "text/plain": [
       "int"
      ]
     },
     "execution_count": 3,
     "metadata": {},
     "output_type": "execute_result"
    }
   ],
   "source": [
    "#checking type\n",
    "type(integer1)"
   ]
  },
  {
   "cell_type": "markdown",
   "metadata": {},
   "source": [
    "### Float"
   ]
  },
  {
   "cell_type": "code",
   "execution_count": 4,
   "metadata": {},
   "outputs": [],
   "source": [
    "#define\n",
    "float1 = 8.3\n",
    "float2 = -53.2"
   ]
  },
  {
   "cell_type": "code",
   "execution_count": 5,
   "metadata": {},
   "outputs": [
    {
     "data": {
      "text/plain": [
       "61.5"
      ]
     },
     "execution_count": 5,
     "metadata": {},
     "output_type": "execute_result"
    }
   ],
   "source": [
    "#subtract\n",
    "float1 - float2"
   ]
  },
  {
   "cell_type": "code",
   "execution_count": 6,
   "metadata": {},
   "outputs": [],
   "source": [
    "#re-define\n",
    "float2 = 9.35"
   ]
  },
  {
   "cell_type": "code",
   "execution_count": 7,
   "metadata": {},
   "outputs": [
    {
     "data": {
      "text/plain": [
       "17.65"
      ]
     },
     "execution_count": 7,
     "metadata": {},
     "output_type": "execute_result"
    }
   ],
   "source": [
    "#add to test new value\n",
    "float1 + float2"
   ]
  },
  {
   "cell_type": "code",
   "execution_count": 8,
   "metadata": {},
   "outputs": [
    {
     "data": {
      "text/plain": [
       "float"
      ]
     },
     "execution_count": 8,
     "metadata": {},
     "output_type": "execute_result"
    }
   ],
   "source": [
    "#check type\n",
    "type(float1)"
   ]
  },
  {
   "cell_type": "code",
   "execution_count": 9,
   "metadata": {},
   "outputs": [
    {
     "data": {
      "text/plain": [
       "6.300000000000001"
      ]
     },
     "execution_count": 9,
     "metadata": {},
     "output_type": "execute_result"
    }
   ],
   "source": [
    "#add variables of type 'float' and 'int'\n",
    "float1 + integer2"
   ]
  },
  {
   "cell_type": "markdown",
   "metadata": {},
   "source": [
    "### Strings"
   ]
  },
  {
   "cell_type": "code",
   "execution_count": 10,
   "metadata": {},
   "outputs": [],
   "source": [
    "#define\n",
    "string1 = \"DevSummit 2019\"\n",
    "string2 = \"Python for Geographer\""
   ]
  },
  {
   "cell_type": "code",
   "execution_count": 11,
   "metadata": {},
   "outputs": [
    {
     "name": "stdout",
     "output_type": "stream",
     "text": [
      "DevSummit 2019\n"
     ]
    }
   ],
   "source": [
    "#print statement\n",
    "string2\n",
    "print(string1)"
   ]
  },
  {
   "cell_type": "code",
   "execution_count": 12,
   "metadata": {},
   "outputs": [
    {
     "data": {
      "text/plain": [
       "'2019'"
      ]
     },
     "execution_count": 12,
     "metadata": {},
     "output_type": "execute_result"
    }
   ],
   "source": [
    "#slicing a string\n",
    "new = string1[10:]\n",
    "new"
   ]
  },
  {
   "cell_type": "code",
   "execution_count": 13,
   "metadata": {},
   "outputs": [
    {
     "data": {
      "text/plain": [
       "2019"
      ]
     },
     "execution_count": 13,
     "metadata": {},
     "output_type": "execute_result"
    }
   ],
   "source": [
    "#changing type of variable 'new'\n",
    "new = int(new)\n",
    "new"
   ]
  },
  {
   "cell_type": "code",
   "execution_count": 14,
   "metadata": {},
   "outputs": [
    {
     "data": {
      "text/plain": [
       "int"
      ]
     },
     "execution_count": 14,
     "metadata": {},
     "output_type": "execute_result"
    }
   ],
   "source": [
    "#verifying type change\n",
    "type(new)"
   ]
  },
  {
   "cell_type": "markdown",
   "metadata": {},
   "source": [
    "### Boolean"
   ]
  },
  {
   "cell_type": "code",
   "execution_count": 15,
   "metadata": {},
   "outputs": [],
   "source": [
    "status = True"
   ]
  },
  {
   "cell_type": "code",
   "execution_count": 16,
   "metadata": {},
   "outputs": [
    {
     "name": "stdout",
     "output_type": "stream",
     "text": [
      "False\n"
     ]
    }
   ],
   "source": [
    "if status:\n",
    "    status = False\n",
    "else:\n",
    "    print('Nothing has changed')\n",
    "print(status)"
   ]
  },
  {
   "cell_type": "markdown",
   "metadata": {},
   "source": [
    "### List"
   ]
  },
  {
   "cell_type": "code",
   "execution_count": 17,
   "metadata": {},
   "outputs": [],
   "source": [
    "#define\n",
    "list1 = ['Python', 3.7, '2019', 'GIS']"
   ]
  },
  {
   "cell_type": "code",
   "execution_count": 18,
   "metadata": {},
   "outputs": [
    {
     "data": {
      "text/plain": [
       "'Python'"
      ]
     },
     "execution_count": 18,
     "metadata": {},
     "output_type": "execute_result"
    }
   ],
   "source": [
    "list1[0]"
   ]
  },
  {
   "cell_type": "code",
   "execution_count": 19,
   "metadata": {},
   "outputs": [
    {
     "name": "stdout",
     "output_type": "stream",
     "text": [
      "Python\n",
      "3.7\n",
      "2019\n",
      "GIS\n"
     ]
    }
   ],
   "source": [
    "#accessing list elements by id\n",
    "for l in range(len(list1)):\n",
    "    print(list1[l])"
   ]
  },
  {
   "cell_type": "code",
   "execution_count": null,
   "metadata": {},
   "outputs": [],
   "source": [
    "#list slicing\n",
    "list1[1:3]"
   ]
  },
  {
   "cell_type": "code",
   "execution_count": 20,
   "metadata": {},
   "outputs": [
    {
     "data": {
      "text/plain": [
       "['Python', 3.7, 'GIS']"
      ]
     },
     "execution_count": 20,
     "metadata": {},
     "output_type": "execute_result"
    }
   ],
   "source": [
    "#deleting list element\n",
    "del list1[2]\n",
    "list1"
   ]
  },
  {
   "cell_type": "code",
   "execution_count": 21,
   "metadata": {},
   "outputs": [
    {
     "data": {
      "text/plain": [
       "['Python', 3.7, 'GIS', 2019]"
      ]
     },
     "execution_count": 21,
     "metadata": {},
     "output_type": "execute_result"
    }
   ],
   "source": [
    "#adding element to list\n",
    "list1.append(2019)\n",
    "list1"
   ]
  },
  {
   "cell_type": "markdown",
   "metadata": {},
   "source": [
    "### Tuple"
   ]
  },
  {
   "cell_type": "code",
   "execution_count": 22,
   "metadata": {},
   "outputs": [],
   "source": [
    "#define\n",
    "tuple1 = ('a', 'b', 3, 4.2)\n",
    "coordinates = (-116.5453, 33.8303)"
   ]
  },
  {
   "cell_type": "code",
   "execution_count": 23,
   "metadata": {},
   "outputs": [
    {
     "ename": "TypeError",
     "evalue": "'tuple' object doesn't support item deletion",
     "output_type": "error",
     "traceback": [
      "\u001b[1;31m---------------------------------------------------------------------------\u001b[0m",
      "\u001b[1;31mTypeError\u001b[0m                                 Traceback (most recent call last)",
      "\u001b[1;32m<ipython-input-23-92bc2c4751fa>\u001b[0m in \u001b[0;36m<module>\u001b[1;34m\u001b[0m\n\u001b[0;32m      1\u001b[0m \u001b[1;31m#attempting to delete tuple element\u001b[0m\u001b[1;33m\u001b[0m\u001b[1;33m\u001b[0m\u001b[1;33m\u001b[0m\u001b[0m\n\u001b[1;32m----> 2\u001b[1;33m \u001b[1;32mdel\u001b[0m \u001b[0mtuple1\u001b[0m\u001b[1;33m[\u001b[0m\u001b[1;36m2\u001b[0m\u001b[1;33m]\u001b[0m\u001b[1;33m\u001b[0m\u001b[1;33m\u001b[0m\u001b[0m\n\u001b[0m",
      "\u001b[1;31mTypeError\u001b[0m: 'tuple' object doesn't support item deletion"
     ]
    }
   ],
   "source": [
    "#attempting to delete tuple element\n",
    "del tuple1[2]"
   ]
  },
  {
   "cell_type": "code",
   "execution_count": 24,
   "metadata": {},
   "outputs": [
    {
     "name": "stdout",
     "output_type": "stream",
     "text": [
      "Deleting a tuple element is not supported\n"
     ]
    }
   ],
   "source": [
    "try:\n",
    "    del tuple1[2]\n",
    "except TypeError:\n",
    "    print('Deleting a tuple element is not supported')"
   ]
  },
  {
   "cell_type": "code",
   "execution_count": 25,
   "metadata": {},
   "outputs": [
    {
     "data": {
      "text/plain": [
       "33.8303"
      ]
     },
     "execution_count": 25,
     "metadata": {},
     "output_type": "execute_result"
    }
   ],
   "source": [
    "#accessing tuple element by id\n",
    "coordinates[1]"
   ]
  },
  {
   "cell_type": "markdown",
   "metadata": {},
   "source": [
    "### Dictionary"
   ]
  },
  {
   "cell_type": "code",
   "execution_count": 26,
   "metadata": {},
   "outputs": [],
   "source": [
    "#define\n",
    "dict1 = {\"session\":\"Python for Geographers\", \"start-time\": 10.30, \"end-time\": 11.30}"
   ]
  },
  {
   "cell_type": "code",
   "execution_count": 27,
   "metadata": {},
   "outputs": [
    {
     "data": {
      "text/plain": [
       "'Python for Geographers'"
      ]
     },
     "execution_count": 27,
     "metadata": {},
     "output_type": "execute_result"
    }
   ],
   "source": [
    "#accessing dictionary element using dictionary key\n",
    "dict1[\"session\"]"
   ]
  },
  {
   "cell_type": "code",
   "execution_count": 28,
   "metadata": {},
   "outputs": [],
   "source": [
    "#adding element to dictionary as key-value pair\n",
    "dict1[\"speaker\"] = \"Manushi Majumdar\""
   ]
  },
  {
   "cell_type": "code",
   "execution_count": 29,
   "metadata": {},
   "outputs": [
    {
     "data": {
      "text/plain": [
       "{'session': 'Python for Geographers',\n",
       " 'start-time': 10.3,\n",
       " 'end-time': 11.3,\n",
       " 'speaker': 'Manushi Majumdar'}"
      ]
     },
     "execution_count": 29,
     "metadata": {},
     "output_type": "execute_result"
    }
   ],
   "source": [
    "#verify\n",
    "dict1"
   ]
  },
  {
   "cell_type": "markdown",
   "metadata": {},
   "source": [
    "### Methods"
   ]
  },
  {
   "cell_type": "code",
   "execution_count": 30,
   "metadata": {},
   "outputs": [],
   "source": [
    "#Define a method\n",
    "def square(x):\n",
    "    '''Squares a number'''\n",
    "    return print(x**2)"
   ]
  },
  {
   "cell_type": "code",
   "execution_count": 31,
   "metadata": {},
   "outputs": [
    {
     "name": "stdout",
     "output_type": "stream",
     "text": [
      "4\n",
      "9\n",
      "49\n"
     ]
    }
   ],
   "source": [
    "#Call it\n",
    "numbers = [2, 3, 7]\n",
    "for number in numbers:\n",
    "    square(number)"
   ]
  },
  {
   "cell_type": "markdown",
   "metadata": {},
   "source": [
    "### Pandas"
   ]
  },
  {
   "cell_type": "code",
   "execution_count": 32,
   "metadata": {},
   "outputs": [],
   "source": [
    "#import package as alias\n",
    "import pandas as pd"
   ]
  },
  {
   "cell_type": "code",
   "execution_count": 33,
   "metadata": {},
   "outputs": [],
   "source": [
    "#Read a csv file in a dataframe (table)\n",
    "dataframe = pd.read_csv('test.csv')"
   ]
  },
  {
   "cell_type": "code",
   "execution_count": 34,
   "metadata": {},
   "outputs": [
    {
     "data": {
      "text/plain": [
       "(26, 50)"
      ]
     },
     "execution_count": 34,
     "metadata": {},
     "output_type": "execute_result"
    }
   ],
   "source": [
    "#get count of (rows,columns)\n",
    "dataframe.shape"
   ]
  },
  {
   "cell_type": "code",
   "execution_count": 36,
   "metadata": {},
   "outputs": [
    {
     "data": {
      "text/html": [
       "<div>\n",
       "<style scoped>\n",
       "    .dataframe tbody tr th:only-of-type {\n",
       "        vertical-align: middle;\n",
       "    }\n",
       "\n",
       "    .dataframe tbody tr th {\n",
       "        vertical-align: top;\n",
       "    }\n",
       "\n",
       "    .dataframe thead th {\n",
       "        text-align: right;\n",
       "    }\n",
       "</style>\n",
       "<table border=\"1\" class=\"dataframe\">\n",
       "  <thead>\n",
       "    <tr style=\"text-align: right;\">\n",
       "      <th></th>\n",
       "      <th>Unnamed: 0</th>\n",
       "      <th>X</th>\n",
       "      <th>Y</th>\n",
       "      <th>OBJECTID</th>\n",
       "      <th>CRIMEID</th>\n",
       "      <th>CCN</th>\n",
       "      <th>REPORTDATE</th>\n",
       "      <th>ROUTEID</th>\n",
       "      <th>MEASURE</th>\n",
       "      <th>OFFSET</th>\n",
       "      <th>...</th>\n",
       "      <th>BICYCLISTSIMPAIRED</th>\n",
       "      <th>DRIVERSIMPAIRED</th>\n",
       "      <th>TOTAL_TAXIS</th>\n",
       "      <th>TOTAL_GOVERNMENT</th>\n",
       "      <th>SPEEDING_INVOLVED</th>\n",
       "      <th>NEARESTINTROUTEID</th>\n",
       "      <th>NEARESTINTSTREETNAME</th>\n",
       "      <th>OFFINTERSECTION</th>\n",
       "      <th>INTAPPROACHDIRECTION</th>\n",
       "      <th>LOCERROR</th>\n",
       "    </tr>\n",
       "  </thead>\n",
       "  <tbody>\n",
       "    <tr>\n",
       "      <th>0</th>\n",
       "      <td>1681</td>\n",
       "      <td>-77.018928</td>\n",
       "      <td>38.908945</td>\n",
       "      <td>18337391</td>\n",
       "      <td>27311813</td>\n",
       "      <td>17082537</td>\n",
       "      <td>2017-05-17T17:57:03.000Z</td>\n",
       "      <td>11000502.0</td>\n",
       "      <td>1569.110</td>\n",
       "      <td>62.0</td>\n",
       "      <td>...</td>\n",
       "      <td>0</td>\n",
       "      <td>0</td>\n",
       "      <td>0.0</td>\n",
       "      <td>0.0</td>\n",
       "      <td>0.0</td>\n",
       "      <td>11065842</td>\n",
       "      <td>O ST NW</td>\n",
       "      <td>44.506757</td>\n",
       "      <td>North</td>\n",
       "      <td>NaN</td>\n",
       "    </tr>\n",
       "    <tr>\n",
       "      <th>1</th>\n",
       "      <td>6133</td>\n",
       "      <td>-77.025986</td>\n",
       "      <td>38.903585</td>\n",
       "      <td>18340843</td>\n",
       "      <td>27009019</td>\n",
       "      <td>16120256</td>\n",
       "      <td>2016-07-21T03:08:39.000Z</td>\n",
       "      <td>11001002.0</td>\n",
       "      <td>1276.198</td>\n",
       "      <td>0.0</td>\n",
       "      <td>...</td>\n",
       "      <td>0</td>\n",
       "      <td>0</td>\n",
       "      <td>0.0</td>\n",
       "      <td>0.0</td>\n",
       "      <td>0.0</td>\n",
       "      <td>11059602</td>\n",
       "      <td>MASSACHUSETTS AVE NW</td>\n",
       "      <td>0.056035</td>\n",
       "      <td>North</td>\n",
       "      <td>NaN</td>\n",
       "    </tr>\n",
       "    <tr>\n",
       "      <th>2</th>\n",
       "      <td>6482</td>\n",
       "      <td>-77.025996</td>\n",
       "      <td>38.894393</td>\n",
       "      <td>18341192</td>\n",
       "      <td>26920851</td>\n",
       "      <td>16063784</td>\n",
       "      <td>2016-04-24T00:52:22.000Z</td>\n",
       "      <td>11001002.0</td>\n",
       "      <td>255.727</td>\n",
       "      <td>0.0</td>\n",
       "      <td>...</td>\n",
       "      <td>0</td>\n",
       "      <td>0</td>\n",
       "      <td>0.0</td>\n",
       "      <td>0.0</td>\n",
       "      <td>0.0</td>\n",
       "      <td>11069812</td>\n",
       "      <td>PENNSYLVANIA AVE NW</td>\n",
       "      <td>6.783323</td>\n",
       "      <td>South</td>\n",
       "      <td>NaN</td>\n",
       "    </tr>\n",
       "    <tr>\n",
       "      <th>3</th>\n",
       "      <td>8498</td>\n",
       "      <td>-77.029716</td>\n",
       "      <td>38.932247</td>\n",
       "      <td>18343208</td>\n",
       "      <td>27204994</td>\n",
       "      <td>17018405</td>\n",
       "      <td>2017-02-02T02:20:56.000Z</td>\n",
       "      <td>11001302.0</td>\n",
       "      <td>3963.314</td>\n",
       "      <td>0.0</td>\n",
       "      <td>...</td>\n",
       "      <td>0</td>\n",
       "      <td>0</td>\n",
       "      <td>0.0</td>\n",
       "      <td>0.0</td>\n",
       "      <td>0.0</td>\n",
       "      <td>11061422</td>\n",
       "      <td>MONROE ST NW</td>\n",
       "      <td>14.092028</td>\n",
       "      <td>South</td>\n",
       "      <td>NaN</td>\n",
       "    </tr>\n",
       "    <tr>\n",
       "      <th>4</th>\n",
       "      <td>9477</td>\n",
       "      <td>-77.031961</td>\n",
       "      <td>38.900480</td>\n",
       "      <td>18344187</td>\n",
       "      <td>27331959</td>\n",
       "      <td>17096199</td>\n",
       "      <td>2017-06-07T02:17:57.000Z</td>\n",
       "      <td>11001402.0</td>\n",
       "      <td>1215.136</td>\n",
       "      <td>0.0</td>\n",
       "      <td>...</td>\n",
       "      <td>0</td>\n",
       "      <td>0</td>\n",
       "      <td>0.0</td>\n",
       "      <td>0.0</td>\n",
       "      <td>0.0</td>\n",
       "      <td>11042442</td>\n",
       "      <td>H ST NW</td>\n",
       "      <td>28.941451</td>\n",
       "      <td>North</td>\n",
       "      <td>NaN</td>\n",
       "    </tr>\n",
       "    <tr>\n",
       "      <th>5</th>\n",
       "      <td>10002</td>\n",
       "      <td>-77.031954</td>\n",
       "      <td>38.918543</td>\n",
       "      <td>18344712</td>\n",
       "      <td>27048954</td>\n",
       "      <td>16145775</td>\n",
       "      <td>2016-08-30T01:11:01.000Z</td>\n",
       "      <td>11001402.0</td>\n",
       "      <td>3142.793</td>\n",
       "      <td>0.0</td>\n",
       "      <td>...</td>\n",
       "      <td>0</td>\n",
       "      <td>0</td>\n",
       "      <td>0.0</td>\n",
       "      <td>0.0</td>\n",
       "      <td>0.0</td>\n",
       "      <td>11088462</td>\n",
       "      <td>V ST NW</td>\n",
       "      <td>49.940199</td>\n",
       "      <td>North</td>\n",
       "      <td>NaN</td>\n",
       "    </tr>\n",
       "    <tr>\n",
       "      <th>6</th>\n",
       "      <td>11262</td>\n",
       "      <td>-77.031953</td>\n",
       "      <td>38.916807</td>\n",
       "      <td>18345972</td>\n",
       "      <td>27264473</td>\n",
       "      <td>17052722</td>\n",
       "      <td>2017-04-01T08:07:57.000Z</td>\n",
       "      <td>11001402.0</td>\n",
       "      <td>2950.159</td>\n",
       "      <td>0.0</td>\n",
       "      <td>...</td>\n",
       "      <td>0</td>\n",
       "      <td>0</td>\n",
       "      <td>0.0</td>\n",
       "      <td>0.0</td>\n",
       "      <td>0.0</td>\n",
       "      <td>11087232</td>\n",
       "      <td>U ST NW</td>\n",
       "      <td>22.284222</td>\n",
       "      <td>South</td>\n",
       "      <td>NaN</td>\n",
       "    </tr>\n",
       "  </tbody>\n",
       "</table>\n",
       "<p>7 rows × 50 columns</p>\n",
       "</div>"
      ],
      "text/plain": [
       "   Unnamed: 0          X          Y  OBJECTID   CRIMEID       CCN  \\\n",
       "0        1681 -77.018928  38.908945  18337391  27311813  17082537   \n",
       "1        6133 -77.025986  38.903585  18340843  27009019  16120256   \n",
       "2        6482 -77.025996  38.894393  18341192  26920851  16063784   \n",
       "3        8498 -77.029716  38.932247  18343208  27204994  17018405   \n",
       "4        9477 -77.031961  38.900480  18344187  27331959  17096199   \n",
       "5       10002 -77.031954  38.918543  18344712  27048954  16145775   \n",
       "6       11262 -77.031953  38.916807  18345972  27264473  17052722   \n",
       "\n",
       "                 REPORTDATE     ROUTEID   MEASURE  OFFSET    ...     \\\n",
       "0  2017-05-17T17:57:03.000Z  11000502.0  1569.110    62.0    ...      \n",
       "1  2016-07-21T03:08:39.000Z  11001002.0  1276.198     0.0    ...      \n",
       "2  2016-04-24T00:52:22.000Z  11001002.0   255.727     0.0    ...      \n",
       "3  2017-02-02T02:20:56.000Z  11001302.0  3963.314     0.0    ...      \n",
       "4  2017-06-07T02:17:57.000Z  11001402.0  1215.136     0.0    ...      \n",
       "5  2016-08-30T01:11:01.000Z  11001402.0  3142.793     0.0    ...      \n",
       "6  2017-04-01T08:07:57.000Z  11001402.0  2950.159     0.0    ...      \n",
       "\n",
       "   BICYCLISTSIMPAIRED  DRIVERSIMPAIRED TOTAL_TAXIS  TOTAL_GOVERNMENT  \\\n",
       "0                   0                0         0.0               0.0   \n",
       "1                   0                0         0.0               0.0   \n",
       "2                   0                0         0.0               0.0   \n",
       "3                   0                0         0.0               0.0   \n",
       "4                   0                0         0.0               0.0   \n",
       "5                   0                0         0.0               0.0   \n",
       "6                   0                0         0.0               0.0   \n",
       "\n",
       "   SPEEDING_INVOLVED NEARESTINTROUTEID  NEARESTINTSTREETNAME  OFFINTERSECTION  \\\n",
       "0                0.0          11065842               O ST NW        44.506757   \n",
       "1                0.0          11059602  MASSACHUSETTS AVE NW         0.056035   \n",
       "2                0.0          11069812   PENNSYLVANIA AVE NW         6.783323   \n",
       "3                0.0          11061422          MONROE ST NW        14.092028   \n",
       "4                0.0          11042442               H ST NW        28.941451   \n",
       "5                0.0          11088462               V ST NW        49.940199   \n",
       "6                0.0          11087232               U ST NW        22.284222   \n",
       "\n",
       "   INTAPPROACHDIRECTION  LOCERROR  \n",
       "0                 North       NaN  \n",
       "1                 North       NaN  \n",
       "2                 South       NaN  \n",
       "3                 South       NaN  \n",
       "4                 North       NaN  \n",
       "5                 North       NaN  \n",
       "6                 South       NaN  \n",
       "\n",
       "[7 rows x 50 columns]"
      ]
     },
     "execution_count": 36,
     "metadata": {},
     "output_type": "execute_result"
    }
   ],
   "source": [
    "#Print first 5 rows of dataframe\n",
    "dataframe.head()"
   ]
  },
  {
   "cell_type": "code",
   "execution_count": null,
   "metadata": {},
   "outputs": [],
   "source": []
  }
 ],
 "metadata": {
  "kernelspec": {
   "display_name": "Python 3",
   "language": "python",
   "name": "python3"
  },
  "language_info": {
   "codemirror_mode": {
    "name": "ipython",
    "version": 3
   },
   "file_extension": ".py",
   "mimetype": "text/x-python",
   "name": "python",
   "nbconvert_exporter": "python",
   "pygments_lexer": "ipython3",
   "version": "3.7.1"
  }
 },
 "nbformat": 4,
 "nbformat_minor": 2
}
