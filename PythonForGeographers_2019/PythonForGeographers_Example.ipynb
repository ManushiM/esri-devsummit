{
 "cells": [
  {
   "cell_type": "code",
   "execution_count": 1,
   "metadata": {},
   "outputs": [],
   "source": [
    "#import packages\n",
    "from arcgis.features import GeoAccessor, GeoSeriesAccessor\n",
    "from arcgis.gis import GIS\n",
    "import pandas as pd"
   ]
  },
  {
   "cell_type": "code",
   "execution_count": 2,
   "metadata": {},
   "outputs": [
    {
     "data": {
      "text/plain": [
       "(272, 16)"
      ]
     },
     "execution_count": 2,
     "metadata": {},
     "output_type": "execute_result"
    }
   ],
   "source": [
    "#Connect to web GIS\n",
    "gis = GIS()\n",
    "\n",
    "#Public Art work exhibits in DC - url\n",
    "publicArt_url = 'https://maps2.dcgis.dc.gov/dcgis/rest/services/DCGIS_DATA/Cultural_and_Society_WebMercator/MapServer/51'\n",
    "\n",
    "#Fetch it as an item\n",
    "publicArt_item = gis.content.search(publicArt_url)[0]\n",
    "\n",
    "#Get Feature layer\n",
    "publicArt_flayer = publicArt_item.layers[0]\n",
    "\n",
    "# create a Spatially Enabled DataFrame object\n",
    "publicArt_sdf = pd.DataFrame.spatial.from_layer(publicArt_flayer)\n",
    "publicArt_sdf.shape"
   ]
  },
  {
   "cell_type": "code",
   "execution_count": 3,
   "metadata": {},
   "outputs": [
    {
     "data": {
      "text/html": [
       "<div>\n",
       "<style scoped>\n",
       "    .dataframe tbody tr th:only-of-type {\n",
       "        vertical-align: middle;\n",
       "    }\n",
       "\n",
       "    .dataframe tbody tr th {\n",
       "        vertical-align: top;\n",
       "    }\n",
       "\n",
       "    .dataframe thead th {\n",
       "        text-align: right;\n",
       "    }\n",
       "</style>\n",
       "<table border=\"1\" class=\"dataframe\">\n",
       "  <thead>\n",
       "    <tr style=\"text-align: right;\">\n",
       "      <th></th>\n",
       "      <th>ADDRESS</th>\n",
       "      <th>ARTIST</th>\n",
       "      <th>ARTWORK</th>\n",
       "      <th>ART_TYPE</th>\n",
       "      <th>DISPLAY</th>\n",
       "      <th>DURATION</th>\n",
       "      <th>LOCATION</th>\n",
       "      <th>MEDIUM</th>\n",
       "      <th>NEIGHBORHOOD</th>\n",
       "      <th>OBJECTID</th>\n",
       "      <th>PROGRAM_SOURCE</th>\n",
       "      <th>SHAPE</th>\n",
       "      <th>SIZE_</th>\n",
       "      <th>TITLE</th>\n",
       "      <th>WARD</th>\n",
       "      <th>YEAR</th>\n",
       "    </tr>\n",
       "  </thead>\n",
       "  <tbody>\n",
       "    <tr>\n",
       "      <th>0</th>\n",
       "      <td>813 S STREET NW</td>\n",
       "      <td>Richard Colman</td>\n",
       "      <td>None</td>\n",
       "      <td>Mural</td>\n",
       "      <td>Capitol Pool Checkers Club, located at back of...</td>\n",
       "      <td>Temporary</td>\n",
       "      <td>813 s street nw</td>\n",
       "      <td>Aerosol paint</td>\n",
       "      <td>shaw</td>\n",
       "      <td>1</td>\n",
       "      <td>MuralsDC</td>\n",
       "      <td>{\"x\": -8574218.473691195, \"y\": 4709396.9483199...</td>\n",
       "      <td>None</td>\n",
       "      <td>Checker Club</td>\n",
       "      <td>1</td>\n",
       "      <td>2011</td>\n",
       "    </tr>\n",
       "    <tr>\n",
       "      <th>1</th>\n",
       "      <td>1320 GOOD HOPE ROAD SE</td>\n",
       "      <td>Helping Inner City Youth Succeed, Hicks</td>\n",
       "      <td>None</td>\n",
       "      <td>Mural</td>\n",
       "      <td>African Heritage Center for African Dance &amp; Mu...</td>\n",
       "      <td>Temporary</td>\n",
       "      <td>1320b good hope road se</td>\n",
       "      <td>Aerosol paint</td>\n",
       "      <td>anacostia</td>\n",
       "      <td>2</td>\n",
       "      <td>MuralsDC</td>\n",
       "      <td>{\"x\": -8570091.998034226, \"y\": 4702665.0021891...</td>\n",
       "      <td>1209 sq. ft.</td>\n",
       "      <td>Untitled</td>\n",
       "      <td>8</td>\n",
       "      <td>2009</td>\n",
       "    </tr>\n",
       "    <tr>\n",
       "      <th>2</th>\n",
       "      <td>745 8TH STREET SE</td>\n",
       "      <td>Michael Hammond</td>\n",
       "      <td>None</td>\n",
       "      <td>Mural</td>\n",
       "      <td>Sasha Bruce House, mural located on front of b...</td>\n",
       "      <td>Permanent</td>\n",
       "      <td>745 8th street se</td>\n",
       "      <td>Aerosol paint on concrete</td>\n",
       "      <td>capitol hill</td>\n",
       "      <td>3</td>\n",
       "      <td>Commissioned Project</td>\n",
       "      <td>{\"x\": -8571075.81926886, \"y\": 4704464.95563865...</td>\n",
       "      <td>140 sq. feet</td>\n",
       "      <td>Depiction of the House’s Go-go Band</td>\n",
       "      <td>6</td>\n",
       "      <td>2011</td>\n",
       "    </tr>\n",
       "    <tr>\n",
       "      <th>3</th>\n",
       "      <td>320 RIGGS ROAD NE</td>\n",
       "      <td>Joel Bergner and Rashad Cuffee</td>\n",
       "      <td>None</td>\n",
       "      <td>Mural</td>\n",
       "      <td>Off the intersection at South Dakota Ave NE &amp; ...</td>\n",
       "      <td>Temporary</td>\n",
       "      <td>357 riggs road ne</td>\n",
       "      <td>Aerosol paint</td>\n",
       "      <td>petworth</td>\n",
       "      <td>4</td>\n",
       "      <td>Neighborhood Projects</td>\n",
       "      <td>{\"x\": -8571770.238307077, \"y\": 4715519.9970951...</td>\n",
       "      <td>None</td>\n",
       "      <td>Life Makes Music</td>\n",
       "      <td>4</td>\n",
       "      <td>2008</td>\n",
       "    </tr>\n",
       "    <tr>\n",
       "      <th>4</th>\n",
       "      <td>314 CARROLL STREET NW</td>\n",
       "      <td>Words, Beats and Life</td>\n",
       "      <td>None</td>\n",
       "      <td>Mural</td>\n",
       "      <td>Elevation 314, mural is located behind 314 Car...</td>\n",
       "      <td>Temporary</td>\n",
       "      <td>314 carroll street nw</td>\n",
       "      <td>Aerosol paint</td>\n",
       "      <td>takoma</td>\n",
       "      <td>5</td>\n",
       "      <td>Neighborhood Projects</td>\n",
       "      <td>{\"x\": -8573468.71309607, \"y\": 4718075.66699776...</td>\n",
       "      <td>150 x 10'</td>\n",
       "      <td>Takoma Green</td>\n",
       "      <td>4</td>\n",
       "      <td>2009</td>\n",
       "    </tr>\n",
       "  </tbody>\n",
       "</table>\n",
       "</div>"
      ],
      "text/plain": [
       "                  ADDRESS                                   ARTIST ARTWORK  \\\n",
       "0         813 S STREET NW                           Richard Colman    None   \n",
       "1  1320 GOOD HOPE ROAD SE  Helping Inner City Youth Succeed, Hicks    None   \n",
       "2       745 8TH STREET SE                          Michael Hammond    None   \n",
       "3       320 RIGGS ROAD NE           Joel Bergner and Rashad Cuffee    None   \n",
       "4   314 CARROLL STREET NW                    Words, Beats and Life    None   \n",
       "\n",
       "  ART_TYPE                                            DISPLAY   DURATION  \\\n",
       "0    Mural  Capitol Pool Checkers Club, located at back of...  Temporary   \n",
       "1    Mural  African Heritage Center for African Dance & Mu...  Temporary   \n",
       "2    Mural  Sasha Bruce House, mural located on front of b...  Permanent   \n",
       "3    Mural  Off the intersection at South Dakota Ave NE & ...  Temporary   \n",
       "4    Mural  Elevation 314, mural is located behind 314 Car...  Temporary   \n",
       "\n",
       "                  LOCATION                     MEDIUM  NEIGHBORHOOD  OBJECTID  \\\n",
       "0          813 s street nw              Aerosol paint          shaw         1   \n",
       "1  1320b good hope road se              Aerosol paint     anacostia         2   \n",
       "2        745 8th street se  Aerosol paint on concrete  capitol hill         3   \n",
       "3        357 riggs road ne              Aerosol paint      petworth         4   \n",
       "4    314 carroll street nw              Aerosol paint        takoma         5   \n",
       "\n",
       "          PROGRAM_SOURCE                                              SHAPE  \\\n",
       "0               MuralsDC  {\"x\": -8574218.473691195, \"y\": 4709396.9483199...   \n",
       "1               MuralsDC  {\"x\": -8570091.998034226, \"y\": 4702665.0021891...   \n",
       "2   Commissioned Project  {\"x\": -8571075.81926886, \"y\": 4704464.95563865...   \n",
       "3  Neighborhood Projects  {\"x\": -8571770.238307077, \"y\": 4715519.9970951...   \n",
       "4  Neighborhood Projects  {\"x\": -8573468.71309607, \"y\": 4718075.66699776...   \n",
       "\n",
       "          SIZE_                                TITLE  WARD  YEAR  \n",
       "0          None                         Checker Club     1  2011  \n",
       "1  1209 sq. ft.                             Untitled     8  2009  \n",
       "2  140 sq. feet  Depiction of the House’s Go-go Band     6  2011  \n",
       "3          None                     Life Makes Music     4  2008  \n",
       "4     150 x 10'                         Takoma Green     4  2009  "
      ]
     },
     "execution_count": 3,
     "metadata": {},
     "output_type": "execute_result"
    }
   ],
   "source": [
    "#First 5 rows\n",
    "publicArt_sdf.head()"
   ]
  },
  {
   "cell_type": "code",
   "execution_count": 4,
   "metadata": {},
   "outputs": [],
   "source": [
    "#map with extent and zoom\n",
    "map1 = gis.map('Washington, DC', 10)\n",
    "#setting a basemap to the map\n",
    "map1.basemap = 'gray'"
   ]
  },
  {
   "cell_type": "code",
   "execution_count": 5,
   "metadata": {},
   "outputs": [
    {
     "data": {
      "application/vnd.jupyter.widget-view+json": {
       "model_id": "081c00be21d440f58ae5fb84540f0466",
       "version_major": 2,
       "version_minor": 0
      },
      "text/plain": [
       "MapView(layout=Layout(height='400px', width='100%'), zoom=10.0)"
      ]
     },
     "metadata": {},
     "output_type": "display_data"
    },
    {
     "data": {
      "text/html": [
       "<div class=\"map-static-img-preview-a8895a70-c15b-4eaf-b980-7ec029b1ca52\"><img src=\"\"></img></div>"
      ],
      "text/plain": [
       "<IPython.core.display.HTML object>"
      ]
     },
     "metadata": {},
     "output_type": "display_data"
    }
   ],
   "source": [
    "#adding art work feature layer to map and display it\n",
    "map1.add_layer(publicArt_flayer)\n",
    "map1"
   ]
  },
  {
   "cell_type": "markdown",
   "metadata": {},
   "source": [
    "![map1](https://user-images.githubusercontent.com/13968196/53986820-0dc88400-40d4-11e9-89ab-84da84816144.PNG)"
   ]
  },
  {
   "cell_type": "markdown",
   "metadata": {},
   "source": [
    "### Horizontal bar chart for Art type"
   ]
  },
  {
   "cell_type": "code",
   "execution_count": 6,
   "metadata": {},
   "outputs": [
    {
     "data": {
      "text/plain": [
       "Mural                                   92\n",
       "Sculpture                               40\n",
       "Installation                            28\n",
       "Tour                                    25\n",
       "Sculpture, Installation                 11\n",
       "Performance                              8\n",
       "Sculpture, installation                  7\n",
       "Lecture                                  6\n",
       "Architectural, sign                      4\n",
       "Performance, installation                4\n",
       "Mosaic mural                             3\n",
       "Architectural                            3\n",
       "Event                                    3\n",
       "Panel discussion                         3\n",
       "Suspended                                3\n",
       "Sculpture, suspended                     2\n",
       "Mural, mosaic                            2\n",
       "Photography                              2\n",
       "Mural, glass                             2\n",
       "Architectural, neon                      1\n",
       "Art Installation                         1\n",
       "Wall Mural- interior                     1\n",
       "Architectural, engraving                 1\n",
       "Sculpture, Mural                         1\n",
       "Paving/Interactive                       1\n",
       "Stained glass                            1\n",
       "Architectural, stained glass             1\n",
       "Mural, mosaics                           1\n",
       "Sculpture                                1\n",
       "Sculpture, mosaic                        1\n",
       "Light Installation                       1\n",
       "Installation, wall mural                 1\n",
       "Interactive Installation                 1\n",
       "Sculpture, mural                         1\n",
       "Installation, wall hanging sculpture     1\n",
       "Mosaic                                   1\n",
       "Mural and Sculpture                      1\n",
       "Light installation                       1\n",
       "Architectural, gate                      1\n",
       "Earth work                               1\n",
       "Suspended installation                   1\n",
       "Performance                              1\n",
       "Name: ART_TYPE, dtype: int64"
      ]
     },
     "execution_count": 6,
     "metadata": {},
     "output_type": "execute_result"
    }
   ],
   "source": [
    "#Generate counts for each 'ART_TYPE'\n",
    "counts = publicArt_sdf['ART_TYPE'].value_counts()\n",
    "counts"
   ]
  },
  {
   "cell_type": "code",
   "execution_count": 7,
   "metadata": {},
   "outputs": [],
   "source": [
    "#Import visualization packages\n",
    "import matplotlib.pyplot as plt\n",
    "import seaborn as sns\n",
    "\n",
    "#set preferences\n",
    "sns.set(color_codes=True)\n",
    "%matplotlib inline"
   ]
  },
  {
   "cell_type": "code",
   "execution_count": 8,
   "metadata": {},
   "outputs": [
    {
     "data": {
      "image/png": "[encoded data removed]",
      "text/plain": [
       "<Figure size 720x720 with 1 Axes>"
      ]
     },
     "metadata": {
      "needs_background": "light"
     },
     "output_type": "display_data"
    }
   ],
   "source": [
    "#Generates bar graph\n",
    "ax = counts.plot(kind='barh', figsize=(10, 10), legend=True, fontsize=12)\n",
    "\n",
    "#X axis text and display style of categories\n",
    "ax.set_xlabel(\"Art work Type\", fontsize=12)\n",
    "\n",
    "#Y axis text\n",
    "ax.set_ylabel(\"Count\", fontsize=12)\n",
    "\n",
    "#Title\n",
    "ax.set_title(\"Public Art in Washington, DC based on type\", fontsize=20)\n",
    "\n",
    "#Annotations\n",
    "for i in ax.patches:\n",
    "    # get_width pulls left or right; get_y pushes up or down\n",
    "    ax.text(i.get_width()+.1, i.get_y()+.31, str(round((i.get_width()), 2)), fontsize=10, color='dimgrey')"
   ]
  },
  {
   "cell_type": "markdown",
   "metadata": {},
   "source": [
    "### Pie chart for duration of art exhibit"
   ]
  },
  {
   "cell_type": "code",
   "execution_count": 9,
   "metadata": {},
   "outputs": [
    {
     "name": "stdout",
     "output_type": "stream",
     "text": [
      "['Temporary', 'Permanent']\n"
     ]
    }
   ],
   "source": [
    "#Getting unique values for day\n",
    "duration = list(publicArt_sdf['DURATION'].unique())\n",
    "print(duration)"
   ]
  },
  {
   "cell_type": "code",
   "execution_count": 10,
   "metadata": {},
   "outputs": [
    {
     "name": "stdout",
     "output_type": "stream",
     "text": [
      "Temporary    154\n",
      "Permanent    118\n",
      "Name: DURATION, dtype: int64\n"
     ]
    }
   ],
   "source": [
    "#Frequency calculation of each day type\n",
    "sizes = publicArt_sdf['DURATION'].value_counts()\n",
    "print(sizes)"
   ]
  },
  {
   "cell_type": "code",
   "execution_count": 11,
   "metadata": {},
   "outputs": [
    {
     "data": {
      "image/png": "[encoded data removed]",
      "text/plain": [
       "<Figure size 432x288 with 1 Axes>"
      ]
     },
     "metadata": {},
     "output_type": "display_data"
    }
   ],
   "source": [
    "# Data to plot\n",
    "labels = duration\n",
    "colors = ['lightskyblue', 'lightcoral']\n",
    " \n",
    "# Plot\n",
    "plt.pie(sizes, labels=labels, colors=colors, autopct='%1.2f%%', shadow=True, startangle=100)\n",
    "plt.show()"
   ]
  },
  {
   "cell_type": "code",
   "execution_count": 6,
   "metadata": {},
   "outputs": [],
   "source": [
    "#Fetching administrative boundaries (WARDS) for DC\n",
    "publicArt_url = 'https://maps2.dcgis.dc.gov/dcgis/rest/services/DCGIS_DATA/Administrative_Other_Boundaries_WebMercator/MapServer/31'\n",
    "publicArt_item = gis.content.search(publicArt_url)[0]\n",
    "publicArt_flayer = publicArt_item.layers[0]"
   ]
  },
  {
   "cell_type": "code",
   "execution_count": 7,
   "metadata": {},
   "outputs": [
    {
     "data": {
      "application/vnd.jupyter.widget-view+json": {
       "model_id": "081c00be21d440f58ae5fb84540f0466",
       "version_major": 2,
       "version_minor": 0
      },
      "text/plain": [
       "MapView(jupyter_target='notebook', layout=Layout(height='400px', width='100%'), ready=True, zoom=11.0)"
      ]
     },
     "metadata": {},
     "output_type": "display_data"
    },
    {
     "data": {
      "text/html": [
       "<div class=\"map-static-img-preview-a8895a70-c15b-4eaf-b980-7ec029b1ca52\"><img src=\"\"></img></div>"
      ],
      "text/plain": [
       "<IPython.core.display.HTML object>"
      ]
     },
     "metadata": {},
     "output_type": "display_data"
    }
   ],
   "source": [
    "#Adding it as a layer and displaying the map\n",
    "map1.add_layer(publicArt_flayer)\n",
    "map1"
   ]
  },
  {
   "cell_type": "markdown",
   "metadata": {},
   "source": [
    "![map1_wards](https://user-images.githubusercontent.com/13968196/53986870-2c2e7f80-40d4-11e9-8d92-aa79adb5b606.PNG)"
   ]
  },
  {
   "cell_type": "code",
   "execution_count": null,
   "metadata": {},
   "outputs": [],
   "source": []
  }
 ],
 "metadata": {
  "kernelspec": {
   "display_name": "Python 3",
   "language": "python",
   "name": "python3"
  },
  "language_info": {
   "codemirror_mode": {
    "name": "ipython",
    "version": 3
   },
   "file_extension": ".py",
   "mimetype": "text/x-python",
   "name": "python",
   "nbconvert_exporter": "python",
   "pygments_lexer": "ipython3",
   "version": "3.7.1"
  }
 },
 "nbformat": 4,
 "nbformat_minor": 2
}
